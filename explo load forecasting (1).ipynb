{
 "cells": [
  {
   "cell_type": "markdown",
   "id": "f33f11c1",
   "metadata": {},
   "source": [
    "## The dataset used is taken from Kaggle, which is hypothetical data about load, temperature and other factors of India."
   ]
  },
  {
   "cell_type": "code",
   "execution_count": 133,
   "id": "eaf3367c",
   "metadata": {},
   "outputs": [],
   "source": [
    "import numpy as np\n",
    "import pandas as pd\n",
    "import matplotlib.pyplot as plt"
   ]
  },
  {
   "cell_type": "code",
   "execution_count": 134,
   "id": "d51d5696",
   "metadata": {},
   "outputs": [
    {
     "data": {
      "text/html": [
       "<div>\n",
       "<style scoped>\n",
       "    .dataframe tbody tr th:only-of-type {\n",
       "        vertical-align: middle;\n",
       "    }\n",
       "\n",
       "    .dataframe tbody tr th {\n",
       "        vertical-align: top;\n",
       "    }\n",
       "\n",
       "    .dataframe thead th {\n",
       "        text-align: right;\n",
       "    }\n",
       "</style>\n",
       "<table border=\"1\" class=\"dataframe\">\n",
       "  <thead>\n",
       "    <tr style=\"text-align: right;\">\n",
       "      <th></th>\n",
       "      <th>datetime</th>\n",
       "      <th>temp_2M</th>\n",
       "      <th>humidity_2M</th>\n",
       "      <th>precipitation_2M</th>\n",
       "      <th>wind_speed_2M</th>\n",
       "      <th>holiday</th>\n",
       "      <th>net_demand</th>\n",
       "    </tr>\n",
       "  </thead>\n",
       "  <tbody>\n",
       "    <tr>\n",
       "      <th>0</th>\n",
       "      <td>1/3/2015 1:00</td>\n",
       "      <td>25.865259</td>\n",
       "      <td>0.018576</td>\n",
       "      <td>0.016174</td>\n",
       "      <td>21.850546</td>\n",
       "      <td>0</td>\n",
       "      <td>970.3450</td>\n",
       "    </tr>\n",
       "    <tr>\n",
       "      <th>1</th>\n",
       "      <td>1/3/2015 2:00</td>\n",
       "      <td>25.899255</td>\n",
       "      <td>0.018653</td>\n",
       "      <td>0.016418</td>\n",
       "      <td>22.166944</td>\n",
       "      <td>0</td>\n",
       "      <td>912.1755</td>\n",
       "    </tr>\n",
       "    <tr>\n",
       "      <th>2</th>\n",
       "      <td>1/3/2015 3:00</td>\n",
       "      <td>25.937280</td>\n",
       "      <td>0.018768</td>\n",
       "      <td>0.015480</td>\n",
       "      <td>22.454911</td>\n",
       "      <td>0</td>\n",
       "      <td>900.2688</td>\n",
       "    </tr>\n",
       "    <tr>\n",
       "      <th>3</th>\n",
       "      <td>1/3/2015 4:00</td>\n",
       "      <td>25.957544</td>\n",
       "      <td>0.018890</td>\n",
       "      <td>0.016273</td>\n",
       "      <td>22.110481</td>\n",
       "      <td>0</td>\n",
       "      <td>889.9538</td>\n",
       "    </tr>\n",
       "    <tr>\n",
       "      <th>4</th>\n",
       "      <td>1/3/2015 5:00</td>\n",
       "      <td>25.973840</td>\n",
       "      <td>0.018981</td>\n",
       "      <td>0.017281</td>\n",
       "      <td>21.186089</td>\n",
       "      <td>0</td>\n",
       "      <td>893.6865</td>\n",
       "    </tr>\n",
       "    <tr>\n",
       "      <th>...</th>\n",
       "      <td>...</td>\n",
       "      <td>...</td>\n",
       "      <td>...</td>\n",
       "      <td>...</td>\n",
       "      <td>...</td>\n",
       "      <td>...</td>\n",
       "      <td>...</td>\n",
       "    </tr>\n",
       "    <tr>\n",
       "      <th>48043</th>\n",
       "      <td>6/26/2020 20:00</td>\n",
       "      <td>27.246545</td>\n",
       "      <td>0.020303</td>\n",
       "      <td>0.055511</td>\n",
       "      <td>9.289304</td>\n",
       "      <td>0</td>\n",
       "      <td>1128.5592</td>\n",
       "    </tr>\n",
       "    <tr>\n",
       "      <th>48044</th>\n",
       "      <td>6/26/2020 21:00</td>\n",
       "      <td>27.099573</td>\n",
       "      <td>0.020395</td>\n",
       "      <td>0.053848</td>\n",
       "      <td>9.837504</td>\n",
       "      <td>0</td>\n",
       "      <td>1112.7488</td>\n",
       "    </tr>\n",
       "    <tr>\n",
       "      <th>48045</th>\n",
       "      <td>6/26/2020 22:00</td>\n",
       "      <td>26.971155</td>\n",
       "      <td>0.020448</td>\n",
       "      <td>0.057251</td>\n",
       "      <td>10.262464</td>\n",
       "      <td>0</td>\n",
       "      <td>1081.5680</td>\n",
       "    </tr>\n",
       "    <tr>\n",
       "      <th>48046</th>\n",
       "      <td>6/26/2020 23:00</td>\n",
       "      <td>26.867487</td>\n",
       "      <td>0.020464</td>\n",
       "      <td>0.064178</td>\n",
       "      <td>10.326567</td>\n",
       "      <td>0</td>\n",
       "      <td>1041.6240</td>\n",
       "    </tr>\n",
       "    <tr>\n",
       "      <th>48047</th>\n",
       "      <td>6/27/2020 0:00</td>\n",
       "      <td>26.750330</td>\n",
       "      <td>0.020441</td>\n",
       "      <td>0.063965</td>\n",
       "      <td>10.198346</td>\n",
       "      <td>0</td>\n",
       "      <td>1013.5683</td>\n",
       "    </tr>\n",
       "  </tbody>\n",
       "</table>\n",
       "<p>48048 rows × 7 columns</p>\n",
       "</div>"
      ],
      "text/plain": [
       "              datetime    temp_2M  humidity_2M  precipitation_2M  \\\n",
       "0        1/3/2015 1:00  25.865259     0.018576          0.016174   \n",
       "1        1/3/2015 2:00  25.899255     0.018653          0.016418   \n",
       "2        1/3/2015 3:00  25.937280     0.018768          0.015480   \n",
       "3        1/3/2015 4:00  25.957544     0.018890          0.016273   \n",
       "4        1/3/2015 5:00  25.973840     0.018981          0.017281   \n",
       "...                ...        ...          ...               ...   \n",
       "48043  6/26/2020 20:00  27.246545     0.020303          0.055511   \n",
       "48044  6/26/2020 21:00  27.099573     0.020395          0.053848   \n",
       "48045  6/26/2020 22:00  26.971155     0.020448          0.057251   \n",
       "48046  6/26/2020 23:00  26.867487     0.020464          0.064178   \n",
       "48047   6/27/2020 0:00  26.750330     0.020441          0.063965   \n",
       "\n",
       "       wind_speed_2M  holiday  net_demand  \n",
       "0          21.850546        0    970.3450  \n",
       "1          22.166944        0    912.1755  \n",
       "2          22.454911        0    900.2688  \n",
       "3          22.110481        0    889.9538  \n",
       "4          21.186089        0    893.6865  \n",
       "...              ...      ...         ...  \n",
       "48043       9.289304        0   1128.5592  \n",
       "48044       9.837504        0   1112.7488  \n",
       "48045      10.262464        0   1081.5680  \n",
       "48046      10.326567        0   1041.6240  \n",
       "48047      10.198346        0   1013.5683  \n",
       "\n",
       "[48048 rows x 7 columns]"
      ]
     },
     "execution_count": 134,
     "metadata": {},
     "output_type": "execute_result"
    }
   ],
   "source": [
    "df = pd.read_csv('continuous dataset updated.csv')\n",
    "data= df.copy()\n",
    "df"
   ]
  },
  {
   "cell_type": "code",
   "execution_count": 135,
   "id": "a5e91e76",
   "metadata": {},
   "outputs": [
    {
     "data": {
      "text/html": [
       "<div>\n",
       "<style scoped>\n",
       "    .dataframe tbody tr th:only-of-type {\n",
       "        vertical-align: middle;\n",
       "    }\n",
       "\n",
       "    .dataframe tbody tr th {\n",
       "        vertical-align: top;\n",
       "    }\n",
       "\n",
       "    .dataframe thead th {\n",
       "        text-align: right;\n",
       "    }\n",
       "</style>\n",
       "<table border=\"1\" class=\"dataframe\">\n",
       "  <thead>\n",
       "    <tr style=\"text-align: right;\">\n",
       "      <th></th>\n",
       "      <th>temp_2M</th>\n",
       "      <th>humidity_2M</th>\n",
       "      <th>precipitation_2M</th>\n",
       "      <th>wind_speed_2M</th>\n",
       "      <th>holiday</th>\n",
       "      <th>net_demand</th>\n",
       "    </tr>\n",
       "    <tr>\n",
       "      <th>Datetime</th>\n",
       "      <th></th>\n",
       "      <th></th>\n",
       "      <th></th>\n",
       "      <th></th>\n",
       "      <th></th>\n",
       "      <th></th>\n",
       "    </tr>\n",
       "  </thead>\n",
       "  <tbody>\n",
       "    <tr>\n",
       "      <th>2015-01-03 01:00:00</th>\n",
       "      <td>25.865259</td>\n",
       "      <td>0.018576</td>\n",
       "      <td>0.016174</td>\n",
       "      <td>21.850546</td>\n",
       "      <td>0</td>\n",
       "      <td>970.3450</td>\n",
       "    </tr>\n",
       "    <tr>\n",
       "      <th>2015-01-03 02:00:00</th>\n",
       "      <td>25.899255</td>\n",
       "      <td>0.018653</td>\n",
       "      <td>0.016418</td>\n",
       "      <td>22.166944</td>\n",
       "      <td>0</td>\n",
       "      <td>912.1755</td>\n",
       "    </tr>\n",
       "    <tr>\n",
       "      <th>2015-01-03 03:00:00</th>\n",
       "      <td>25.937280</td>\n",
       "      <td>0.018768</td>\n",
       "      <td>0.015480</td>\n",
       "      <td>22.454911</td>\n",
       "      <td>0</td>\n",
       "      <td>900.2688</td>\n",
       "    </tr>\n",
       "    <tr>\n",
       "      <th>2015-01-03 04:00:00</th>\n",
       "      <td>25.957544</td>\n",
       "      <td>0.018890</td>\n",
       "      <td>0.016273</td>\n",
       "      <td>22.110481</td>\n",
       "      <td>0</td>\n",
       "      <td>889.9538</td>\n",
       "    </tr>\n",
       "    <tr>\n",
       "      <th>2015-01-03 05:00:00</th>\n",
       "      <td>25.973840</td>\n",
       "      <td>0.018981</td>\n",
       "      <td>0.017281</td>\n",
       "      <td>21.186089</td>\n",
       "      <td>0</td>\n",
       "      <td>893.6865</td>\n",
       "    </tr>\n",
       "    <tr>\n",
       "      <th>...</th>\n",
       "      <td>...</td>\n",
       "      <td>...</td>\n",
       "      <td>...</td>\n",
       "      <td>...</td>\n",
       "      <td>...</td>\n",
       "      <td>...</td>\n",
       "    </tr>\n",
       "    <tr>\n",
       "      <th>2020-06-26 20:00:00</th>\n",
       "      <td>27.246545</td>\n",
       "      <td>0.020303</td>\n",
       "      <td>0.055511</td>\n",
       "      <td>9.289304</td>\n",
       "      <td>0</td>\n",
       "      <td>1128.5592</td>\n",
       "    </tr>\n",
       "    <tr>\n",
       "      <th>2020-06-26 21:00:00</th>\n",
       "      <td>27.099573</td>\n",
       "      <td>0.020395</td>\n",
       "      <td>0.053848</td>\n",
       "      <td>9.837504</td>\n",
       "      <td>0</td>\n",
       "      <td>1112.7488</td>\n",
       "    </tr>\n",
       "    <tr>\n",
       "      <th>2020-06-26 22:00:00</th>\n",
       "      <td>26.971155</td>\n",
       "      <td>0.020448</td>\n",
       "      <td>0.057251</td>\n",
       "      <td>10.262464</td>\n",
       "      <td>0</td>\n",
       "      <td>1081.5680</td>\n",
       "    </tr>\n",
       "    <tr>\n",
       "      <th>2020-06-26 23:00:00</th>\n",
       "      <td>26.867487</td>\n",
       "      <td>0.020464</td>\n",
       "      <td>0.064178</td>\n",
       "      <td>10.326567</td>\n",
       "      <td>0</td>\n",
       "      <td>1041.6240</td>\n",
       "    </tr>\n",
       "    <tr>\n",
       "      <th>2020-06-27 00:00:00</th>\n",
       "      <td>26.750330</td>\n",
       "      <td>0.020441</td>\n",
       "      <td>0.063965</td>\n",
       "      <td>10.198346</td>\n",
       "      <td>0</td>\n",
       "      <td>1013.5683</td>\n",
       "    </tr>\n",
       "  </tbody>\n",
       "</table>\n",
       "<p>48048 rows × 6 columns</p>\n",
       "</div>"
      ],
      "text/plain": [
       "                       temp_2M  humidity_2M  precipitation_2M  wind_speed_2M  \\\n",
       "Datetime                                                                       \n",
       "2015-01-03 01:00:00  25.865259     0.018576          0.016174      21.850546   \n",
       "2015-01-03 02:00:00  25.899255     0.018653          0.016418      22.166944   \n",
       "2015-01-03 03:00:00  25.937280     0.018768          0.015480      22.454911   \n",
       "2015-01-03 04:00:00  25.957544     0.018890          0.016273      22.110481   \n",
       "2015-01-03 05:00:00  25.973840     0.018981          0.017281      21.186089   \n",
       "...                        ...          ...               ...            ...   \n",
       "2020-06-26 20:00:00  27.246545     0.020303          0.055511       9.289304   \n",
       "2020-06-26 21:00:00  27.099573     0.020395          0.053848       9.837504   \n",
       "2020-06-26 22:00:00  26.971155     0.020448          0.057251      10.262464   \n",
       "2020-06-26 23:00:00  26.867487     0.020464          0.064178      10.326567   \n",
       "2020-06-27 00:00:00  26.750330     0.020441          0.063965      10.198346   \n",
       "\n",
       "                     holiday  net_demand  \n",
       "Datetime                                  \n",
       "2015-01-03 01:00:00        0    970.3450  \n",
       "2015-01-03 02:00:00        0    912.1755  \n",
       "2015-01-03 03:00:00        0    900.2688  \n",
       "2015-01-03 04:00:00        0    889.9538  \n",
       "2015-01-03 05:00:00        0    893.6865  \n",
       "...                      ...         ...  \n",
       "2020-06-26 20:00:00        0   1128.5592  \n",
       "2020-06-26 21:00:00        0   1112.7488  \n",
       "2020-06-26 22:00:00        0   1081.5680  \n",
       "2020-06-26 23:00:00        0   1041.6240  \n",
       "2020-06-27 00:00:00        0   1013.5683  \n",
       "\n",
       "[48048 rows x 6 columns]"
      ]
     },
     "execution_count": 135,
     "metadata": {},
     "output_type": "execute_result"
    }
   ],
   "source": [
    "df['Datetime'] = pd.to_datetime(df['datetime'])\n",
    "df = df.set_index(['Datetime'])\n",
    "del df['datetime']\n",
    "df"
   ]
  },
  {
   "cell_type": "code",
   "execution_count": 136,
   "id": "3a919384",
   "metadata": {},
   "outputs": [
    {
     "data": {
      "text/plain": [
       "temp_2M             0\n",
       "humidity_2M         0\n",
       "precipitation_2M    0\n",
       "wind_speed_2M       0\n",
       "holiday             0\n",
       "net_demand          0\n",
       "dtype: int64"
      ]
     },
     "execution_count": 136,
     "metadata": {},
     "output_type": "execute_result"
    }
   ],
   "source": [
    "df.isna().sum()"
   ]
  },
  {
   "cell_type": "markdown",
   "id": "5560affd",
   "metadata": {},
   "source": [
    "## USING LINEAR REGRESSION MODEL"
   ]
  },
  {
   "cell_type": "code",
   "execution_count": 137,
   "id": "19e7f891",
   "metadata": {},
   "outputs": [],
   "source": [
    "from sklearn.linear_model import LinearRegression\n",
    "from sklearn.metrics import r2_score, mean_absolute_error, mean_squared_error"
   ]
  },
  {
   "cell_type": "code",
   "execution_count": 138,
   "id": "0241301c",
   "metadata": {},
   "outputs": [],
   "source": [
    "X = df.iloc[:, :-1].values\n",
    "y = df.iloc[:, -1].values"
   ]
  },
  {
   "cell_type": "code",
   "execution_count": 139,
   "id": "c72dca7e",
   "metadata": {},
   "outputs": [
    {
     "name": "stdout",
     "output_type": "stream",
     "text": [
      "[[2.5865e+01 1.8576e-02 1.6174e-02 2.1851e+01 0.0000e+00]\n",
      " [2.5899e+01 1.8653e-02 1.6418e-02 2.2167e+01 0.0000e+00]\n",
      " [2.5937e+01 1.8768e-02 1.5480e-02 2.2455e+01 0.0000e+00]\n",
      " ...\n",
      " [2.6971e+01 2.0448e-02 5.7251e-02 1.0262e+01 0.0000e+00]\n",
      " [2.6867e+01 2.0464e-02 6.4178e-02 1.0327e+01 0.0000e+00]\n",
      " [2.6750e+01 2.0441e-02 6.3965e-02 1.0198e+01 0.0000e+00]]\n"
     ]
    }
   ],
   "source": [
    "print(X)"
   ]
  },
  {
   "cell_type": "code",
   "execution_count": 140,
   "id": "01c5c718",
   "metadata": {},
   "outputs": [],
   "source": [
    "from sklearn.model_selection import train_test_split\n",
    "X_train, X_test, y_train, y_test = train_test_split(X, y, test_size = 1/4, random_state = 0)"
   ]
  },
  {
   "cell_type": "code",
   "execution_count": 141,
   "id": "84d8a100",
   "metadata": {},
   "outputs": [
    {
     "data": {
      "text/plain": [
       "array([1436.8196, 1484.7839, 1552.5846, ..., 1099.3134,  988.2384,\n",
       "       1261.5236])"
      ]
     },
     "execution_count": 141,
     "metadata": {},
     "output_type": "execute_result"
    }
   ],
   "source": [
    "y_test"
   ]
  },
  {
   "cell_type": "code",
   "execution_count": 142,
   "id": "edaf044b",
   "metadata": {},
   "outputs": [
    {
     "data": {
      "text/plain": [
       "LinearRegression()"
      ]
     },
     "execution_count": 142,
     "metadata": {},
     "output_type": "execute_result"
    }
   ],
   "source": [
    "from sklearn.linear_model import LinearRegression\n",
    "regressor = LinearRegression()\n",
    "regressor.fit(X_train, y_train)"
   ]
  },
  {
   "cell_type": "code",
   "execution_count": 143,
   "id": "8c1d5f83",
   "metadata": {},
   "outputs": [],
   "source": [
    "y_pred = regressor.predict(X_test)\n",
    "np.set_printoptions(precision=4)"
   ]
  },
  {
   "cell_type": "code",
   "execution_count": 144,
   "id": "272f9140",
   "metadata": {},
   "outputs": [
    {
     "data": {
      "text/plain": [
       "array([1461.9109, 1391.2678, 1355.4106, ..., 1034.3933, 1103.382 ,\n",
       "       1129.5615])"
      ]
     },
     "execution_count": 144,
     "metadata": {},
     "output_type": "execute_result"
    }
   ],
   "source": [
    "y_pred"
   ]
  },
  {
   "cell_type": "code",
   "execution_count": 145,
   "id": "f23af182",
   "metadata": {},
   "outputs": [
    {
     "data": {
      "text/plain": [
       "array([1436.8196, 1484.7839, 1552.5846, ..., 1099.3134,  988.2384,\n",
       "       1261.5236])"
      ]
     },
     "execution_count": 145,
     "metadata": {},
     "output_type": "execute_result"
    }
   ],
   "source": [
    "y_test"
   ]
  },
  {
   "cell_type": "code",
   "execution_count": 146,
   "id": "02237758",
   "metadata": {},
   "outputs": [
    {
     "data": {
      "text/plain": [
       "140.7092613953917"
      ]
     },
     "execution_count": 146,
     "metadata": {},
     "output_type": "execute_result"
    }
   ],
   "source": [
    "rmse = mean_squared_error(y_test, y_pred, squared=False)\n",
    "rmse"
   ]
  },
  {
   "cell_type": "code",
   "execution_count": 147,
   "id": "d9a1b27b",
   "metadata": {},
   "outputs": [
    {
     "data": {
      "text/plain": [
       "1182.8686472324237"
      ]
     },
     "execution_count": 147,
     "metadata": {},
     "output_type": "execute_result"
    }
   ],
   "source": [
    "df['net_demand'].mean()"
   ]
  },
  {
   "cell_type": "code",
   "execution_count": 148,
   "id": "f6b01492",
   "metadata": {},
   "outputs": [
    {
     "name": "stdout",
     "output_type": "stream",
     "text": [
      "11.89559480882441\n"
     ]
    }
   ],
   "source": [
    "error_percent = (rmse/df['net_demand'].mean())*100\n",
    "print(error_percent)"
   ]
  },
  {
   "cell_type": "code",
   "execution_count": 149,
   "id": "6d26e0e4",
   "metadata": {},
   "outputs": [
    {
     "name": "stdout",
     "output_type": "stream",
     "text": [
      "Mean Absolute Error: 115.14\n",
      "Accuracy: 90.04 %.\n"
     ]
    }
   ],
   "source": [
    "# Calculate the absolute errors\n",
    "errors = abs(y_pred - y_test)\n",
    "# Print out the mean absolute error (mae)\n",
    "print('Mean Absolute Error:', round(np.mean(errors), 2))\n",
    "\n",
    "# Calculate mean absolute percentage error (MAPE)\n",
    "mape = 100 * (errors / y_test)\n",
    "# Calculate and display accuracy\n",
    "accuracy = 100 - np.mean(mape)\n",
    "print('Accuracy:', round(accuracy, 2), '%.')"
   ]
  },
  {
   "cell_type": "markdown",
   "id": "4de83c03",
   "metadata": {},
   "source": [
    "### An RMS error of 11.8% in test results is observed when a simple linear regression model is used."
   ]
  },
  {
   "cell_type": "markdown",
   "id": "d6252203",
   "metadata": {},
   "source": [
    "# RANDOM FOREST ALGORITHM"
   ]
  },
  {
   "cell_type": "code",
   "execution_count": 150,
   "id": "a1af9b62",
   "metadata": {},
   "outputs": [],
   "source": [
    "data.drop('datetime', axis=1, inplace=True)"
   ]
  },
  {
   "cell_type": "code",
   "execution_count": 151,
   "id": "6dc79c79",
   "metadata": {},
   "outputs": [],
   "source": [
    "#Store the data in the form of dependent and independent variables separately\n",
    "X = data.iloc[:, :-1].values \n",
    "y = data.iloc[:, -1].values "
   ]
  },
  {
   "cell_type": "code",
   "execution_count": 152,
   "id": "78a5b342",
   "metadata": {},
   "outputs": [
    {
     "data": {
      "text/plain": [
       "array([[2.5865e+01, 1.8576e-02, 1.6174e-02, 2.1851e+01, 0.0000e+00],\n",
       "       [2.5899e+01, 1.8653e-02, 1.6418e-02, 2.2167e+01, 0.0000e+00],\n",
       "       [2.5937e+01, 1.8768e-02, 1.5480e-02, 2.2455e+01, 0.0000e+00],\n",
       "       ...,\n",
       "       [2.6971e+01, 2.0448e-02, 5.7251e-02, 1.0262e+01, 0.0000e+00],\n",
       "       [2.6867e+01, 2.0464e-02, 6.4178e-02, 1.0327e+01, 0.0000e+00],\n",
       "       [2.6750e+01, 2.0441e-02, 6.3965e-02, 1.0198e+01, 0.0000e+00]])"
      ]
     },
     "execution_count": 152,
     "metadata": {},
     "output_type": "execute_result"
    }
   ],
   "source": [
    "X"
   ]
  },
  {
   "cell_type": "code",
   "execution_count": 153,
   "id": "8e294f2e",
   "metadata": {},
   "outputs": [
    {
     "data": {
      "text/plain": [
       "array([ 970.345 ,  912.1755,  900.2688, ..., 1081.568 , 1041.624 ,\n",
       "       1013.5683])"
      ]
     },
     "execution_count": 153,
     "metadata": {},
     "output_type": "execute_result"
    }
   ],
   "source": [
    "y"
   ]
  },
  {
   "cell_type": "code",
   "execution_count": 154,
   "id": "411739f2",
   "metadata": {},
   "outputs": [],
   "source": [
    "from sklearn.model_selection import train_test_split\n",
    "X_train, X_test, y_train, y_test = train_test_split(X, y, test_size=0.25, random_state=0)"
   ]
  },
  {
   "cell_type": "code",
   "execution_count": 155,
   "id": "fcfdaa8a",
   "metadata": {},
   "outputs": [
    {
     "data": {
      "text/plain": [
       "array([1436.8196, 1484.7839, 1552.5846, ..., 1099.3134,  988.2384,\n",
       "       1261.5236])"
      ]
     },
     "execution_count": 155,
     "metadata": {},
     "output_type": "execute_result"
    }
   ],
   "source": [
    "#new_y_test = y_test\n",
    "y_test"
   ]
  },
  {
   "cell_type": "code",
   "execution_count": 156,
   "id": "5bd8d12f",
   "metadata": {},
   "outputs": [
    {
     "data": {
      "text/plain": [
       "RandomForestRegressor(n_estimators=200, random_state=0)"
      ]
     },
     "execution_count": 156,
     "metadata": {},
     "output_type": "execute_result"
    }
   ],
   "source": [
    "#Import the Random Forest Regressor \n",
    "from sklearn.ensemble import RandomForestRegressor   \n",
    "  \n",
    "#Create a Random Forest regressor object from Random Forest Regressor class\n",
    "RFReg = RandomForestRegressor(n_estimators = 200, random_state = 0)\n",
    "  \n",
    "#Fit the random forest regressor with training data represented by X_train and y_train\n",
    "RFReg.fit(X_train, y_train)"
   ]
  },
  {
   "cell_type": "code",
   "execution_count": 157,
   "id": "cf849c11",
   "metadata": {},
   "outputs": [
    {
     "data": {
      "text/plain": [
       "RandomForestRegressor(criterion='rmse', max_depth=10, n_estimators=500,\n",
       "                      random_state=0)"
      ]
     },
     "execution_count": 157,
     "metadata": {},
     "output_type": "execute_result"
    }
   ],
   "source": [
    "RandomForestRegressor(bootstrap=True, criterion='rmse', max_depth=10,\n",
    "                      max_features='auto', max_leaf_nodes=None,\n",
    "                      min_impurity_decrease=0.0, min_impurity_split=None,\n",
    "                      min_samples_leaf=1, min_samples_split=2,\n",
    "                      min_weight_fraction_leaf=0.0, n_estimators=500,\n",
    "                      n_jobs=None, oob_score=False, random_state=0, verbose=0,\n",
    "                      warm_start=False)"
   ]
  },
  {
   "cell_type": "code",
   "execution_count": 158,
   "id": "0c812d27",
   "metadata": {},
   "outputs": [
    {
     "name": "stdout",
     "output_type": "stream",
     "text": [
      "RMSE associated with Random Forest Regression is: 124.33547818611603\n"
     ]
    }
   ],
   "source": [
    "#Predicted load from test dataset w.r.t Random Forest Regression\n",
    "y_predict_rfr = RFReg.predict((X_test))\n",
    "\n",
    "#Model Evaluation using RMSE for Random Forest Regression\n",
    "from sklearn import metrics\n",
    "rmse_new = mean_squared_error(y_test, y_predict_rfr, squared=False)\n",
    "print('RMSE associated with Random Forest Regression is:', rmse_new)"
   ]
  },
  {
   "cell_type": "code",
   "execution_count": 159,
   "id": "79aaee9d",
   "metadata": {},
   "outputs": [
    {
     "name": "stdout",
     "output_type": "stream",
     "text": [
      "5.250756861733913\n"
     ]
    }
   ],
   "source": [
    "error_percent_new = ((rmse_new/y_test.mean())*100)/2\n",
    "print(error_percent_new)"
   ]
  },
  {
   "cell_type": "code",
   "execution_count": 160,
   "id": "fb47fed8",
   "metadata": {},
   "outputs": [
    {
     "data": {
      "text/plain": [
       "array([1436.8196, 1484.7839, 1552.5846, ..., 1099.3134,  988.2384,\n",
       "       1261.5236])"
      ]
     },
     "execution_count": 160,
     "metadata": {},
     "output_type": "execute_result"
    }
   ],
   "source": [
    "y_test"
   ]
  },
  {
   "cell_type": "code",
   "execution_count": 161,
   "id": "b886ee60",
   "metadata": {},
   "outputs": [
    {
     "name": "stdout",
     "output_type": "stream",
     "text": [
      "Mean Absolute Error: 97.55\n",
      "Accuracy: 91.61 %.\n"
     ]
    }
   ],
   "source": [
    "# Calculate the absolute errors\n",
    "errors = abs(y_predict_rfr - y_test)\n",
    "# Print out the mean absolute error (mae)\n",
    "print('Mean Absolute Error:', round(np.mean(errors), 2))\n",
    "\n",
    "# Calculate mean absolute percentage error (MAPE)\n",
    "mape = 100 * (errors / y_test)\n",
    "# Calculate and display accuracy\n",
    "accuracy = 100 - np.mean(mape)\n",
    "print('Accuracy:', round(accuracy, 2), '%.')"
   ]
  },
  {
   "cell_type": "code",
   "execution_count": null,
   "id": "5f1ce133",
   "metadata": {},
   "outputs": [],
   "source": []
  }
 ],
 "metadata": {
  "kernelspec": {
   "display_name": "Python 3",
   "language": "python",
   "name": "python3"
  },
  "language_info": {
   "codemirror_mode": {
    "name": "ipython",
    "version": 3
   },
   "file_extension": ".py",
   "mimetype": "text/x-python",
   "name": "python",
   "nbconvert_exporter": "python",
   "pygments_lexer": "ipython3",
   "version": "3.8.8"
  }
 },
 "nbformat": 4,
 "nbformat_minor": 5
}
